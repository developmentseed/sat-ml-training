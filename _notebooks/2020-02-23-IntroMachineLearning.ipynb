{
 "cells": [
  {
   "cell_type": "markdown",
   "metadata": {},
   "source": [
    "# Machine learning (ML)\n",
    "> A selection of background material and resources for Machine Learning.\n",
    "\n",
    "- toc: true \n",
    "- badges: true\n",
    "- author: Zhuang-Fang Yi, Lilly Thomas, Alex Mandel\n",
    "- comments: false\n",
    "- categories: [python, background]\n",
    "- hide: false\n",
    "- sticky_rank: 3"
   ]
  },
  {
   "cell_type": "markdown",
   "metadata": {},
   "source": [
    "## How to navigate this guide\n",
    "\n",
    "The order below should navigate the reader progressively through the topics that we will cover in the tutorials.  The first section (1.2.0) is intended to build an understanding of machine learning fundamentals which will inform the following sections. Read the main links to articles, view/read but no need to try the code implementation examples, and for further learning - please see the references listed at the end."
   ]
  },
  {
   "cell_type": "markdown",
   "metadata": {},
   "source": [
    "## 1.2.0 General Machine Learning Best Practices\n",
    "\n",
    "-   [What is Machine Learning?](https://medium.com/towards-artificial-intelligence/what-is-machine-learning-ml-b58162f97ec7)\n",
    "-   [About Train, Validation and Test Sets in Machine Learning](https://towardsdatascience.com/training-vs-testing-vs-validation-sets-a44bed52a0e1/)\n",
    "-   [How to Handle Imbalance Data and Small Training Sets in ML](https://towardsdatascience.com/how-to-handle-imbalance-data-and-small-training-sets-in-ml-989f8053531d/)\n",
    "-   [Model Optimization](https://arxiv.org/pdf/1906.06821.pdf) read Abstract and section II (first two paragraphs)\n",
    "-   [Parallel and Distributed Deep Learning](https://web.stanford.edu/~rezab/classes/cme323/S16/projects_reports/hedge_usmani.pdf) read sections 1.2, 2, 3\n",
    "-   [Machine Learning – How to Evaluate your Model?](https://towardsdatascience.com/machine-learning-how-to-evaluate-your-model-1dabbdc849a4/)\n"
   ]
  },
  {
   "cell_type": "markdown",
   "metadata": {},
   "source": [
    "\n",
    "\n",
    "## 1.2.1 Classic Machine Learning (ML)\n",
    "\n",
    "### RandomForest\n",
    "\n",
    "-   [Random Forest Simple Explanation](https://medium.com/@williamkoehrsen/random-forest-simple-explanation-377895a60d2d) read sections: (1) Decision Tree: The Building Block and (2) From Decision Tree to Random Forest\n",
    "-   Decision tree and RandomForest classifier\n",
    "    [in-depth](https://jakevdp.github.io/PythonDataScienceHandbook/05.08-random-forests.html) for generic coding implementations\n",
    "    \n",
    "-   [w/\n",
    "    sciki-learn](https://scikit-learn.org/stable/modules/generated/sklearn.ensemble.RandomForestClassifier.html) for the specific function\n",
    "-   RandomForest classifier in LULC case ([Development Seed\n",
    "    example](https://github.com/developmentseed/servir-training-notebooks/blob/master/crop_type_mapping/notebooks/randomforest.ipynb))\n",
    "\n",
    "\n",
    "### LightGBM\n",
    "\n",
    "-   [LightGBM: A Highly Efficient Gradient Boosting\n",
    "Decision Tree](https://papers.nips.cc/paper/6907-lightgbm-a-highly-efficient-gradient-boosting-decision-tree.pdf) read Introduction and section 2.1\n",
    "-   [LightGBM python library](https://lightgbm.readthedocs.io/en/latest/) this is the library that we will use in the tutorial\n",
    "\n",
    "-   LightGBM in crop type mapping case ([Development Seed\n",
    "    example](https://github.com/developmentseed/servir-training-notebooks/blob/master/crop_type_mapping/notebooks/LightGBM.ipynb)\n",
    "    and SentinelHub [eo-learn\n",
    "    example](https://github.com/sentinel-hub/eo-learn/blob/master/examples/land-cover-map/SI_LULC_pipeline.ipynb))\n"
   ]
  },
  {
   "cell_type": "markdown",
   "metadata": {},
   "source": [
    "## 1.2.2 Deep learning\n",
    "\n",
    "### Deep Learning vs Classical Machine Learning\n",
    "-   [Deep Learning in a Nutshell – what it is, how it works, why care?](https://www.kdnuggets.com/2015/01/deep-learning-explanation-what-how-why.html) read sections (1) What is Machine Learning? and (2) A First Look at Neural Networks\n",
    "\n",
    "### Semantic Segmentation\n",
    "-   [Semantic Segmentation with Deep Learning](https://towardsdatascience.com/image-segmentation-an-in-depth-guide-5e56512eea2e/)\n",
    "\n",
    "### TF dynamic UNet\n",
    "-   [UNet](https://arxiv.org/pdf/1505.04597.pdf) read sections 1 and 2\n",
    "-   Dynamic UNet in LULC case ([Development Seed\n",
    "    example](https://github.com/developmentseed/servir-training-notebooks/blob/master/lulc/LULC_fastai.ipynb))\n"
   ]
  },
  {
   "cell_type": "markdown",
   "metadata": {},
   "source": [
    "## References:\n",
    "\n",
    "-   [Introduction to Statistical Learning](https://faculty.marshall.usc.edu/gareth-james/ISL/) book and [examples written in python notebooks](https://github.com/tdpetrou/Machine-Learning-Books-With-Python/tree/master/Introduction%20to%20Statistical%20Learning)\n",
    "-   Additional Examples from [Python for Data Science](https://jakevdp.github.io/PythonDataScienceHandbook/index.html#5.-Machine-Learning)"
   ]
  },
  {
   "cell_type": "code",
   "execution_count": null,
   "metadata": {},
   "outputs": [],
   "source": []
  }
 ],
 "metadata": {
  "kernelspec": {
   "display_name": "Python 3",
   "language": "python",
   "name": "python3"
  },
  "language_info": {
   "codemirror_mode": {
    "name": "ipython",
    "version": 3
   },
   "file_extension": ".py",
   "mimetype": "text/x-python",
   "name": "python",
   "nbconvert_exporter": "python",
   "pygments_lexer": "ipython3",
   "version": "3.6.8"
  }
 },
 "nbformat": 4,
 "nbformat_minor": 2
}
